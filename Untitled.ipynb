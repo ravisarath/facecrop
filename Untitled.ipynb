{
 "cells": [
  {
   "cell_type": "code",
   "execution_count": null,
   "metadata": {},
   "outputs": [],
   "source": [
    "import dlib\n",
    "import cv2"
   ]
  },
  {
   "cell_type": "code",
   "execution_count": null,
   "metadata": {},
   "outputs": [],
   "source": [
    "\n",
    "detector = dlib.get_frontal_face_detector()\n",
    "\n",
    "def face_det_score(img1):\n",
    "    score_img = 0\n",
    "    count = 0\n",
    "    img = dlib.load_rgb_image(img1)\n",
    "    dets, scores, idx = detector.run(img, 1, -1)\n",
    "    for i, d in enumerate(dets):\n",
    "        \n",
    "        if score_img < scores[i]:\n",
    "            score_img = scores[i]\n",
    "            count = i\n",
    "            xmin , xmax, ymin, ymax =   d.top(),d.bottom(),d.left(), d.right()\n",
    "    return  xmin , xmax, ymin, ymax\n",
    "def crop_face(img):\n",
    "    print(face_det_score(img))\n",
    "    xmin , xmax, ymin, ymax = face_det_score(img)\n",
    "    image = cv2.imread(img)\n",
    "    crop_img = image[xmin-20:xmax+20, ymin-20:ymax+20]\n",
    "#     crop_img.save(\"cropped.jpg\")\n",
    "    cv2.imwrite(\"cropped.jpg\", crop_img)\n",
    "\n",
    "\n",
    "crop_face(\"/home/nithin/Downloads/test-1.jpg\")"
   ]
  },
  {
   "cell_type": "raw",
   "metadata": {},
   "source": [
    "pdf or tiff with temp filcreation"
   ]
  },
  {
   "cell_type": "code",
   "execution_count": null,
   "metadata": {},
   "outputs": [],
   "source": [
    "import subprocess\n",
    "import tempfile\n",
    "import pathlib"
   ]
  },
  {
   "cell_type": "code",
   "execution_count": 65,
   "metadata": {},
   "outputs": [],
   "source": [
    "\n",
    "def split_pdf(file): #str\n",
    "    score_img = 0\n",
    "    count = 0\n",
    "    img_file = None\n",
    "    with tempfile.TemporaryDirectory() as fp:\n",
    "        fname = file.split('/')[-1]\n",
    "        name, ext = fname.split('.')\n",
    "        tp = pathlib.Path(fp)\n",
    "        command = \"convert {} {}/{}.jpg\".format(file, str(tp), name)\n",
    "        subprocess.run(command, shell=True)\n",
    "        for img in tp.iterdir():\n",
    "            img = dlib.load_grayscale_image(str(img))\n",
    "            dets, scores, idx = detector.run(img, 1, -1)\n",
    "            for i, d in enumerate(dets):\n",
    "                if score_img < scores[i]:\n",
    "                    score_img = scores[i]\n",
    "                    count = i\n",
    "                    img_file = img\n",
    "                    xmin , xmax, ymin, ymax =   d.top(),d.bottom(),d.left(), d.right()\n",
    "        print(xmin , xmax, ymin, ymax)\n",
    "#         image = cv2.imread(img)\n",
    "        crop_img = img_file[xmin-20:xmax+20, ymin-20:ymax+20]\n",
    "        #     crop_img.save(\"cropped.jpg\")\n",
    "        cv2.imwrite(\"cropped.jpg\", crop_img)"
   ]
  },
  {
   "cell_type": "code",
   "execution_count": 78,
   "metadata": {},
   "outputs": [],
   "source": [
    "split_pdf(\"/home/nithin/Downloads/test.tiff\")"
   ]
  },
  {
   "cell_type": "code",
   "execution_count": null,
   "metadata": {},
   "outputs": [],
   "source": []
  }
 ],
 "metadata": {
  "kernelspec": {
   "display_name": "Python 3",
   "language": "python",
   "name": "python3"
  }
 },
 "nbformat": 4,
 "nbformat_minor": 2
}
